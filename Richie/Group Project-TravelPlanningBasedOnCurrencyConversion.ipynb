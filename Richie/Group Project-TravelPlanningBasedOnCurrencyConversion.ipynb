{
 "cells": [
  {
   "cell_type": "markdown",
   "id": "28217f78",
   "metadata": {},
   "source": [
    "# Travel Planner Based on Currency Conversion Risk"
   ]
  },
  {
   "cell_type": "markdown",
   "id": "043f2eae",
   "metadata": {},
   "source": [
    "**Project Goal:**  Create a travel planning tool that will allow the user to select a set of countries they would like to travel to and a travel timeframe (3,6,12 months).  The tool will analyze historical Forex data and predict the country that will have the most favorable currency within the given travel timeframe.\n",
    "\n",
    "**The tool will:**\n",
    "Check Forex volatility as barometer for travel decisions\n",
    "Use historical forex data (up to 2 years)\n",
    "3 - 6 - 12 months predictive outlook using Monte Carlo and other algorithms\n",
    "Produce graphs, risk graphs, value graphs,\n",
    "Variables - currency / country,  traveling times (3-6-12 months)"
   ]
  },
  {
   "cell_type": "markdown",
   "id": "43d75f76",
   "metadata": {},
   "source": [
    "## Import Library"
   ]
  },
  {
   "cell_type": "code",
   "execution_count": null,
   "id": "dba75689",
   "metadata": {},
   "outputs": [],
   "source": [
    "import os\n",
    "import requests\n",
    "import pandas as pd\n",
    "from dotenv import load_dotenv\n",
    "import alpaca_trade_api as tradeapi\n",
    "from MCForecastTools import MCSimulation\n",
    "import numpy as np\n",
    "import json\n",
    "\n",
    "%matplotlib inline"
   ]
  },
  {
   "cell_type": "code",
   "execution_count": null,
   "id": "c19847eb",
   "metadata": {},
   "outputs": [],
   "source": [
    "# Load .env enviroment variable\n",
    "load_dotenv()\n",
    "\n",
    "# Set  API key \n",
    "\n",
    "api_key = os.getenv(\"_API_KEY\")\n",
    "\n",
    "\n",
    "# Verify that key was correctly loaded ( class 'str')\n",
    "print(f\"Key type: {type(api_key)}\")\n",
    "\n",
    "\n",
    "# Create the API object\n",
    "\n",
    "# alpaca = tradeapi.REST(\n",
    "#     alpaca_api_key,\n",
    "#     alpaca_secret_key,\n",
    "#     api_version=\"v2\")"
   ]
  },
  {
   "cell_type": "markdown",
   "id": "804cd367",
   "metadata": {},
   "source": [
    "## Data Cleaning"
   ]
  },
  {
   "cell_type": "markdown",
   "id": "40e89278",
   "metadata": {},
   "source": [
    "In this section, you will need to read the CSV files into DataFrames and perform any necessary data cleaning steps. After cleaning, combine all DataFrames into a single DataFrame.\n",
    "\n",
    "Files:\n",
    "\n",
    "    forex1.csv : Contains forex 1 \n",
    "\n",
    "    forex2.csv: Contains forex 2\n",
    "    \n",
    "    forex3.csv: Contains forex 3\n",
    "    \n",
    "    country1.csv : Contains country 1\n",
    "\n",
    "    country2.csv: Contains country 2\n",
    "    \n",
    "    country3.csv: Contains country 3\n",
    "    \n",
    "    weather.csv : contains weather\n",
    "    \n",
    "    "
   ]
  },
  {
   "cell_type": "markdown",
   "id": "9925e2d3",
   "metadata": {},
   "source": [
    "## Read the Data for file 1"
   ]
  },
  {
   "cell_type": "code",
   "execution_count": 2,
   "id": "e2c8a981",
   "metadata": {},
   "outputs": [],
   "source": [
    "# Reading forex 1\n",
    "\n",
    "# Create a path to the file:\n",
    "forex1 = Path(\"forex1.csv\")\n",
    "\n",
    "# # Read the CSV into a DataFrame using Pandas\n",
    "dataframe = pd.read_csv(forex1, index_col=\"Date\", infer_datetime_format=True, parse_dates=True)\n",
    "dataframe.head()"
   ]
  },
  {
   "cell_type": "code",
   "execution_count": null,
   "id": "36083d5a",
   "metadata": {},
   "outputs": [],
   "source": [
    "# Count nulls\n",
    "dataframe.isnull().sum() \n",
    "\n",
    "# Drop nulls\n",
    "dataframe = dataframe.dropna()\n",
    "dataframe"
   ]
  },
  {
   "cell_type": "markdown",
   "id": "3c81b8b2",
   "metadata": {},
   "source": [
    "## Read the Data for file 2"
   ]
  },
  {
   "cell_type": "code",
   "execution_count": null,
   "id": "00258cfa",
   "metadata": {},
   "outputs": [],
   "source": [
    "# Reading forex 2\n",
    "\n",
    "# Create a path to the file:\n",
    "forex2 = Path(\"forex2.csv\")\n",
    "\n",
    "# # Read the CSV into a DataFrame using Pandas\n",
    "dataframe2 = pd.read_csv(forex2, index_col=\"Date\", infer_datetime_format=True, parse_dates=True)\n",
    "dataframe2.head()"
   ]
  },
  {
   "cell_type": "code",
   "execution_count": null,
   "id": "27b9972c",
   "metadata": {},
   "outputs": [],
   "source": [
    "# Count nulls\n",
    "dataframe.isnull().sum() \n",
    "\n",
    "# Drop nulls\n",
    "dataframe2 = dataframe2.dropna()\n",
    "dataframe2"
   ]
  },
  {
   "cell_type": "markdown",
   "id": "09d935e6",
   "metadata": {},
   "source": [
    "## Read the Data for file 3"
   ]
  },
  {
   "cell_type": "code",
   "execution_count": null,
   "id": "9b247d15",
   "metadata": {},
   "outputs": [],
   "source": [
    "# Reading forex 3\n",
    "\n",
    "# Create a path to the file:\n",
    "forex3 = Path(\"forex3.csv\")\n",
    "\n",
    "# # Read the CSV into a DataFrame using Pandas\n",
    "dataframe3 = pd.read_csv(forex3, index_col=\"Date\", infer_datetime_format=True, parse_dates=True)\n",
    "dataframe3.head()"
   ]
  },
  {
   "cell_type": "code",
   "execution_count": null,
   "id": "55ae8082",
   "metadata": {},
   "outputs": [],
   "source": [
    "# Count nulls\n",
    "dataframe3.isnull().sum() \n",
    "\n",
    "# Drop nulls\n",
    "dataframe3 = dataframe3.dropna()\n",
    "dataframe3"
   ]
  },
  {
   "cell_type": "code",
   "execution_count": null,
   "id": "8a031794",
   "metadata": {},
   "outputs": [],
   "source": [
    "# Check Data Types\n",
    "\n",
    ".dtypes"
   ]
  },
  {
   "cell_type": "code",
   "execution_count": null,
   "id": "8c7d5517",
   "metadata": {},
   "outputs": [],
   "source": [
    "# Fix Data Types\n",
    "\n",
    "# Clean identified numeric fields with $ symbol\n",
    "\n",
    ".str.replace('$','',regex=False)\n",
    "\n",
    "\n",
    "# Fix Data Types\n",
    "\n"
   ]
  },
  {
   "cell_type": "markdown",
   "id": "c33ee640-f649-425f-ad86-226b2d1cfe55",
   "metadata": {},
   "source": [
    "# Foreign Exchange Currency Converter Function"
   ]
  },
  {
   "cell_type": "code",
   "execution_count": null,
   "id": "ed789bb8-4877-4a6f-aa7c-02b688242fdb",
   "metadata": {},
   "outputs": [],
   "source": []
  }
 ],
 "metadata": {
  "kernelspec": {
   "display_name": "Python 3 (ipykernel)",
   "language": "python",
   "name": "python3"
  },
  "language_info": {
   "codemirror_mode": {
    "name": "ipython",
    "version": 3
   },
   "file_extension": ".py",
   "mimetype": "text/x-python",
   "name": "python",
   "nbconvert_exporter": "python",
   "pygments_lexer": "ipython3",
   "version": "3.9.7"
  }
 },
 "nbformat": 4,
 "nbformat_minor": 5
}
