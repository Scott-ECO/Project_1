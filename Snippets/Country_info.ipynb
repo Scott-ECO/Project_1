{
 "cells": [
  {
   "cell_type": "code",
   "execution_count": 40,
   "id": "630a2cef-de1d-43e5-aa93-74bcdb7b602d",
   "metadata": {},
   "outputs": [],
   "source": [
    "import pandas as pd\n",
    "from pathlib import Path"
   ]
  },
  {
   "cell_type": "code",
   "execution_count": 41,
   "id": "fdde3141-a9ba-4a88-8eb7-09e423536b01",
   "metadata": {},
   "outputs": [],
   "source": [
    "from countryinfo import CountryInfo"
   ]
  },
  {
   "cell_type": "code",
   "execution_count": 42,
   "id": "b6eef17b-b2d2-4771-a485-4fdc554edfe7",
   "metadata": {},
   "outputs": [],
   "source": [
    "csvpath = Path(\"country_list.csv\")"
   ]
  },
  {
   "cell_type": "code",
   "execution_count": 43,
   "id": "5b3883d5-0919-419a-a179-42f60ea38e32",
   "metadata": {},
   "outputs": [
    {
     "data": {
      "text/html": [
       "<div>\n",
       "<style scoped>\n",
       "    .dataframe tbody tr th:only-of-type {\n",
       "        vertical-align: middle;\n",
       "    }\n",
       "\n",
       "    .dataframe tbody tr th {\n",
       "        vertical-align: top;\n",
       "    }\n",
       "\n",
       "    .dataframe thead th {\n",
       "        text-align: right;\n",
       "    }\n",
       "</style>\n",
       "<table border=\"1\" class=\"dataframe\">\n",
       "  <thead>\n",
       "    <tr style=\"text-align: right;\">\n",
       "      <th></th>\n",
       "      <th>Countries</th>\n",
       "    </tr>\n",
       "  </thead>\n",
       "  <tbody>\n",
       "    <tr>\n",
       "      <th>0</th>\n",
       "      <td>Australia</td>\n",
       "    </tr>\n",
       "    <tr>\n",
       "      <th>1</th>\n",
       "      <td>Austria</td>\n",
       "    </tr>\n",
       "    <tr>\n",
       "      <th>2</th>\n",
       "      <td>Belgium</td>\n",
       "    </tr>\n",
       "    <tr>\n",
       "      <th>3</th>\n",
       "      <td>Brazil</td>\n",
       "    </tr>\n",
       "    <tr>\n",
       "      <th>4</th>\n",
       "      <td>Canada</td>\n",
       "    </tr>\n",
       "    <tr>\n",
       "      <th>5</th>\n",
       "      <td>China</td>\n",
       "    </tr>\n",
       "    <tr>\n",
       "      <th>6</th>\n",
       "      <td>Cyprus</td>\n",
       "    </tr>\n",
       "    <tr>\n",
       "      <th>7</th>\n",
       "      <td>Estonia</td>\n",
       "    </tr>\n",
       "    <tr>\n",
       "      <th>8</th>\n",
       "      <td>Finland</td>\n",
       "    </tr>\n",
       "    <tr>\n",
       "      <th>9</th>\n",
       "      <td>France</td>\n",
       "    </tr>\n",
       "    <tr>\n",
       "      <th>10</th>\n",
       "      <td>Germany</td>\n",
       "    </tr>\n",
       "    <tr>\n",
       "      <th>11</th>\n",
       "      <td>Greece</td>\n",
       "    </tr>\n",
       "    <tr>\n",
       "      <th>12</th>\n",
       "      <td>Ireland</td>\n",
       "    </tr>\n",
       "    <tr>\n",
       "      <th>13</th>\n",
       "      <td>Italy</td>\n",
       "    </tr>\n",
       "    <tr>\n",
       "      <th>14</th>\n",
       "      <td>Japan</td>\n",
       "    </tr>\n",
       "    <tr>\n",
       "      <th>15</th>\n",
       "      <td>Latvia</td>\n",
       "    </tr>\n",
       "    <tr>\n",
       "      <th>16</th>\n",
       "      <td>Lithuania</td>\n",
       "    </tr>\n",
       "    <tr>\n",
       "      <th>17</th>\n",
       "      <td>Luxemburg</td>\n",
       "    </tr>\n",
       "    <tr>\n",
       "      <th>18</th>\n",
       "      <td>Malta</td>\n",
       "    </tr>\n",
       "    <tr>\n",
       "      <th>19</th>\n",
       "      <td>Mexico</td>\n",
       "    </tr>\n",
       "    <tr>\n",
       "      <th>20</th>\n",
       "      <td>Netherlands</td>\n",
       "    </tr>\n",
       "    <tr>\n",
       "      <th>21</th>\n",
       "      <td>Portugal</td>\n",
       "    </tr>\n",
       "    <tr>\n",
       "      <th>22</th>\n",
       "      <td>Singapore</td>\n",
       "    </tr>\n",
       "    <tr>\n",
       "      <th>23</th>\n",
       "      <td>Slovakia</td>\n",
       "    </tr>\n",
       "    <tr>\n",
       "      <th>24</th>\n",
       "      <td>Slovenia</td>\n",
       "    </tr>\n",
       "    <tr>\n",
       "      <th>25</th>\n",
       "      <td>South Africa</td>\n",
       "    </tr>\n",
       "    <tr>\n",
       "      <th>26</th>\n",
       "      <td>Spain</td>\n",
       "    </tr>\n",
       "    <tr>\n",
       "      <th>27</th>\n",
       "      <td>Switzerland</td>\n",
       "    </tr>\n",
       "    <tr>\n",
       "      <th>28</th>\n",
       "      <td>Thailand</td>\n",
       "    </tr>\n",
       "    <tr>\n",
       "      <th>29</th>\n",
       "      <td>Turkey</td>\n",
       "    </tr>\n",
       "    <tr>\n",
       "      <th>30</th>\n",
       "      <td>United Kingdom</td>\n",
       "    </tr>\n",
       "  </tbody>\n",
       "</table>\n",
       "</div>"
      ],
      "text/plain": [
       "         Countries\n",
       "0        Australia\n",
       "1          Austria\n",
       "2          Belgium\n",
       "3           Brazil\n",
       "4           Canada\n",
       "5            China\n",
       "6           Cyprus\n",
       "7          Estonia\n",
       "8          Finland\n",
       "9           France\n",
       "10         Germany\n",
       "11          Greece\n",
       "12         Ireland\n",
       "13           Italy\n",
       "14           Japan\n",
       "15          Latvia\n",
       "16       Lithuania\n",
       "17       Luxemburg\n",
       "18           Malta\n",
       "19          Mexico\n",
       "20     Netherlands\n",
       "21        Portugal\n",
       "22       Singapore\n",
       "23        Slovakia\n",
       "24        Slovenia\n",
       "25    South Africa\n",
       "26           Spain\n",
       "27     Switzerland\n",
       "28        Thailand\n",
       "29          Turkey\n",
       "30  United Kingdom"
      ]
     },
     "execution_count": 43,
     "metadata": {},
     "output_type": "execute_result"
    }
   ],
   "source": [
    "country_list = pd.read_csv(csvpath)\n",
    "country_list"
   ]
  },
  {
   "cell_type": "code",
   "execution_count": 44,
   "id": "74b18f7e-3077-4f83-85c7-d4eca287998d",
   "metadata": {},
   "outputs": [],
   "source": [
    "#country_names = []\n",
    "\n",
    "\n",
    "\n",
    "country_names = ['Australia', 'Austria', 'Belgium', 'Brazil', 'Canada', 'China', 'Cyprus', 'Estonia', 'Finland', 'France', 'Germany', 'Greece', 'Ireland', 'Italy', 'Japan', \n",
    "                'Latvia', 'Lithuania', 'Luxembourg', 'Malta', 'Mexico', 'Netherlands', 'Portugal', 'Singapore', 'Slovakia', 'Slovenia', 'South Africa', 'Spain', 'Switzerland', 'Thailand', 'Turkey', 'United Kingdom']"
   ]
  },
  {
   "cell_type": "code",
   "execution_count": 45,
   "id": "8c27e848-631e-4c9f-ab62-9dfabdd47b4f",
   "metadata": {},
   "outputs": [
    {
     "data": {
      "text/plain": [
       "['Australia',\n",
       " 'Austria',\n",
       " 'Belgium',\n",
       " 'Brazil',\n",
       " 'Canada',\n",
       " 'China',\n",
       " 'Cyprus',\n",
       " 'Estonia',\n",
       " 'Finland',\n",
       " 'France',\n",
       " 'Germany',\n",
       " 'Greece',\n",
       " 'Ireland',\n",
       " 'Italy',\n",
       " 'Japan',\n",
       " 'Latvia',\n",
       " 'Lithuania',\n",
       " 'Luxembourg',\n",
       " 'Malta',\n",
       " 'Mexico',\n",
       " 'Netherlands',\n",
       " 'Portugal',\n",
       " 'Singapore',\n",
       " 'Slovakia',\n",
       " 'Slovenia',\n",
       " 'South Africa',\n",
       " 'Spain',\n",
       " 'Switzerland',\n",
       " 'Thailand',\n",
       " 'Turkey',\n",
       " 'United Kingdom']"
      ]
     },
     "execution_count": 45,
     "metadata": {},
     "output_type": "execute_result"
    }
   ],
   "source": [
    "country_names"
   ]
  },
  {
   "cell_type": "code",
   "execution_count": 46,
   "id": "be49015f-eb0c-42c8-b7f2-f68454b7e472",
   "metadata": {},
   "outputs": [
    {
     "data": {
      "text/plain": [
       "'Luxembourg'"
      ]
     },
     "execution_count": 46,
     "metadata": {},
     "output_type": "execute_result"
    }
   ],
   "source": [
    "name = 'Luxembourg'\n",
    "country = CountryInfo(name)\n",
    "country.capital()"
   ]
  },
  {
   "cell_type": "code",
   "execution_count": null,
   "id": "0df4f50d-485b-4309-a179-8fa62e9c8102",
   "metadata": {},
   "outputs": [],
   "source": []
  },
  {
   "cell_type": "code",
   "execution_count": 50,
   "id": "dd490331-dc13-46ec-a650-f8d4ee4fda0c",
   "metadata": {},
   "outputs": [
    {
     "name": "stdout",
     "output_type": "stream",
     "text": [
      "Country: Australia  [-35.297591, 149.101268]\n",
      "Country: Austria  [48.208354, 16.372504]\n",
      "Country: Belgium  [50.846557, 4.351697]\n",
      "Country: Brazil  [-10.333333, -53.2]\n",
      "Country: Canada  [45.421106, -75.690308]\n",
      "Country: China  [39.906217, 116.391276]\n",
      "Country: Cyprus  [35.17393, 33.364726]\n",
      "Country: Estonia  [59.437216, 24.745369]\n",
      "Country: Finland  [60.16741, 24.942577]\n",
      "Country: France  [48.856697, 2.351462]\n",
      "Country: Germany  [52.517036, 13.38886]\n",
      "Country: Greece  [37.983941, 23.728305]\n",
      "Country: Ireland  [53.349764, -6.260273]\n",
      "Country: Italy  [41.89332, 12.482932]\n",
      "Country: Japan  [35.682839, 139.759455]\n",
      "Country: Latvia  [56.949398, 24.105185]\n",
      "Country: Lithuania  [54.687046, 25.282911]\n",
      "Country: Luxembourg  [49.815868, 6.129675]\n",
      "Country: Malta  [35.898982, 14.513676]\n",
      "Country: Mexico  [19.43263, -99.133178]\n",
      "Country: Netherlands  [52.37276, 4.893604]\n",
      "Country: Portugal  [38.707751, -9.136592]\n",
      "Country: Singapore  [1.357107, 103.819499]\n",
      "Country: Slovakia  [48.151699, 17.109306]\n",
      "Country: Slovenia  [46.04998, 14.50686]\n",
      "Country: South Africa  [-25.745937, 28.187944]\n",
      "Country: Spain  [40.416705, -3.703582]\n",
      "Country: Switzerland  [46.948271, 7.451451]\n",
      "Country: Thailand  [13.754253, 100.493087]\n",
      "Country: Turkey  [39.920777, 32.854067]\n",
      "Country: United Kingdom  [51.507322, -0.127647]\n"
     ]
    }
   ],
   "source": [
    "for country in country_names:\n",
    "    country2 = CountryInfo(country)\n",
    "    \n",
    "    lat_lng = country2.capital_latlng()\n",
    "    #print(lat_lng)\n",
    "    print(f\"Country: {country}  {country2.capital_latlng()}\")"
   ]
  },
  {
   "cell_type": "code",
   "execution_count": 48,
   "id": "a110baa7-597c-4578-ba71-27fd0ecc7116",
   "metadata": {},
   "outputs": [],
   "source": [
    "country = CountryInfo(name)"
   ]
  },
  {
   "cell_type": "code",
   "execution_count": 39,
   "id": "9e64d4d3-ff63-44a6-b9a5-ca0cc0dec346",
   "metadata": {},
   "outputs": [
    {
     "data": {
      "text/plain": [
       "[49.815868, 6.129675]"
      ]
     },
     "execution_count": 39,
     "metadata": {},
     "output_type": "execute_result"
    }
   ],
   "source": [
    "country.capital_latlng()\n"
   ]
  },
  {
   "cell_type": "code",
   "execution_count": null,
   "id": "d2bf8dae-0d6e-4658-97ac-f7460be54c32",
   "metadata": {},
   "outputs": [],
   "source": []
  },
  {
   "cell_type": "code",
   "execution_count": null,
   "id": "2510cbd8-3926-4d07-88fd-d96be93cc845",
   "metadata": {},
   "outputs": [],
   "source": []
  }
 ],
 "metadata": {
  "kernelspec": {
   "display_name": "Python 3 (ipykernel)",
   "language": "python",
   "name": "python3"
  },
  "language_info": {
   "codemirror_mode": {
    "name": "ipython",
    "version": 3
   },
   "file_extension": ".py",
   "mimetype": "text/x-python",
   "name": "python",
   "nbconvert_exporter": "python",
   "pygments_lexer": "ipython3",
   "version": "3.9.7"
  }
 },
 "nbformat": 4,
 "nbformat_minor": 5
}
